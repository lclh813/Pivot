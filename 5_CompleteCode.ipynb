{
 "cells": [
  {
   "cell_type": "markdown",
   "metadata": {},
   "source": [
    "## 1. Import Library"
   ]
  },
  {
   "cell_type": "code",
   "execution_count": null,
   "metadata": {},
   "outputs": [],
   "source": [
    "import glob\n",
    "import csv\n",
    "import pandas as pd\n",
    "import numpy as np"
   ]
  },
  {
   "cell_type": "markdown",
   "metadata": {},
   "source": [
    "## 2. Import Data\n",
    "Import annual data of 2016 and 2017 respectively."
   ]
  },
  {
   "cell_type": "code",
   "execution_count": null,
   "metadata": {},
   "outputs": [],
   "source": [
    "files = glob.glob('G:\\\\Data\\\\*.xls')\n",
    "\n",
    "data = pd.DataFrame() \n",
    "for file in files:\n",
    "    temp = pd.read_excel(file, encoding = 'utf-8')\n",
    "    # Delete the last row which sums up the purchase of the entire month\n",
    "    temp = temp.drop(temp.index[len(temp)-1])\n",
    "    data = data.append(temp)"
   ]
  },
  {
   "cell_type": "markdown",
   "metadata": {},
   "source": [
    "## 3. Clean Dataset"
   ]
  },
  {
   "cell_type": "markdown",
   "metadata": {},
   "source": [
    "### 3.1. Drop Columns"
   ]
  },
  {
   "cell_type": "code",
   "execution_count": null,
   "metadata": {},
   "outputs": [],
   "source": [
    "# Drop Column Named \"Total Qty\"\n",
    "data = data.drop(['Total Qty'], 1)"
   ]
  },
  {
   "cell_type": "code",
   "execution_count": null,
   "metadata": {},
   "outputs": [],
   "source": [
    "# Drop Columns Containing \"%\"\n",
    "data = data[data.columns.drop(list(data.filter(regex = '%')))]"
   ]
  },
  {
   "cell_type": "markdown",
   "metadata": {},
   "source": [
    "### 3.2. Reshape Dataframe"
   ]
  },
  {
   "cell_type": "code",
   "execution_count": null,
   "metadata": {},
   "outputs": [],
   "source": [
    "# Coulmn Axis: Purchase_Date, Supplier\n",
    "# Row Axis: Fruit_Type_ID\n",
    "# Value: Qty\n",
    "df = data.melt(id_vars=['Purchase_Date', 'Supplier'], var_name = 'Fruit_Name_ID', value_name = 'Qty')"
   ]
  },
  {
   "cell_type": "markdown",
   "metadata": {},
   "source": [
    "### 3.3. Data Type Conversion"
   ]
  },
  {
   "cell_type": "code",
   "execution_count": null,
   "metadata": {},
   "outputs": [],
   "source": [
    "# Records in Column \"value\" turned out to be string objects rather than numbers.\n",
    "# Find out that numbers formatted with thousand separator are considered as strings. \n",
    "df.dtypes"
   ]
  },
  {
   "cell_type": "markdown",
   "metadata": {},
   "source": [
    "### 3.3.1. Convertion to String"
   ]
  },
  {
   "cell_type": "code",
   "execution_count": null,
   "metadata": {},
   "outputs": [],
   "source": [
    "df['Qty'] = df['Qty'].astype(str)"
   ]
  },
  {
   "cell_type": "markdown",
   "metadata": {},
   "source": [
    "### 3.3.2. Remove Thousand Separator"
   ]
  },
  {
   "cell_type": "code",
   "execution_count": null,
   "metadata": {},
   "outputs": [],
   "source": [
    "df['Qty'] = df['Qty'].apply(lambda x: x.replace(',',''))"
   ]
  },
  {
   "cell_type": "markdown",
   "metadata": {},
   "source": [
    "### 3.3.3. Conversion to Integer"
   ]
  },
  {
   "cell_type": "code",
   "execution_count": null,
   "metadata": {},
   "outputs": [],
   "source": [
    "df['Qty'] = df['Qty'].astype(int)"
   ]
  },
  {
   "cell_type": "markdown",
   "metadata": {},
   "source": [
    "## 3.4. Export Dataset for Analysis\n",
    "Export annual data of 2016 and 2017 respectively."
   ]
  },
  {
   "cell_type": "code",
   "execution_count": null,
   "metadata": {},
   "outputs": [],
   "source": [
    "df = df.groupby(['Purchase_Date','Supplier','Fruit_Name_ID'])['Qty'].sum().reset_index()"
   ]
  },
  {
   "cell_type": "code",
   "execution_count": null,
   "metadata": {},
   "outputs": [],
   "source": [
    "df.to_csv('G:\\\\Analysis.csv', index = False, encoding = 'ansi')"
   ]
  },
  {
   "cell_type": "markdown",
   "metadata": {},
   "source": [
    "## 4. Pivot Analysis"
   ]
  },
  {
   "cell_type": "markdown",
   "metadata": {},
   "source": [
    "### 4.1. Import Data\n",
    "Import annual data of 2016 and 2017 respectively."
   ]
  },
  {
   "cell_type": "code",
   "execution_count": null,
   "metadata": {},
   "outputs": [],
   "source": [
    "df = pd.read_csv('G:\\\\Analysis.csv', encoding = 'ansi')"
   ]
  },
  {
   "cell_type": "markdown",
   "metadata": {},
   "source": [
    "### 4.2. Object Definition"
   ]
  },
  {
   "cell_type": "code",
   "execution_count": null,
   "metadata": {},
   "outputs": [],
   "source": [
    "# Definition 1：Months\n",
    "months = ['/01/','/02/','/03/','/04/','/05/','/06/','/07/','/08/','/09/','/10/','/11/','/12/']\n",
    "\n",
    "# Definition 2.1：Suppliers in 2017 \n",
    "new_column_2016 = ['Farm 1','Farm 2','Farm 3-1','Farm 4']\n",
    "\n",
    "# Definition 2.2：Suppliers in 2018 \n",
    "new_column_2017 = ['Farm 1','Farm 2','Farm 3-2','Farm 4']\n",
    "\n",
    "# Definition 3：Fruits\n",
    "new_index = ['APPL001','APPL002','Apple','GRAP001','Grape','KIWI001','Kiwifruit']"
   ]
  },
  {
   "cell_type": "markdown",
   "metadata": {},
   "source": [
    "### 4.3. Pivot Analysis"
   ]
  },
  {
   "cell_type": "code",
   "execution_count": null,
   "metadata": {},
   "outputs": [],
   "source": [
    "for month in months:\n",
    "    \n",
    "    # Select data of specific month. \n",
    "    df_month = df[df['Purchase_Date'].str.contains(month)]\n",
    "    \n",
    "    # Drop Column \"Purchase_Date.\"\n",
    "    df_month = df_month.drop(['Purchase_Date'], 1)\n",
    "    \n",
    "    # Conduct Pivot Analysis.\n",
    "    df_pivot = df_month.pivot_table(index='Fruit_Name_ID', columns='Supplier', values='Qty', aggfunc=np.sum)\n",
    "      \n",
    "    # Determine which year it is by suppliers.\n",
    "    # Farm 3-1 is the supplier of 2016.\n",
    "    if 'Farm 3-1' in list(df_pivot.columns.values):\n",
    "        new_column = new_column_2016\n",
    "        year = '2016'\n",
    "    # Farm 3-2 is the supplier of 2017.\n",
    "    elif 'Farm 3-2' in list(df_pivot.columns.values):\n",
    "        new_column = new_column_2017\n",
    "        year = '2017'\n",
    "    # Suppose that Farm 3-1 and Farm 3-2 are not regular suppliers and it is likely that \n",
    "    # there is no orders distributed to these two during some months of the year accordingly, \n",
    "    # determining which year it is should be referring to \"Purchase_Date\" instead.\n",
    "    else:\n",
    "        # Since it is the annual data of either 2016 or 2017 to be imported, \n",
    "        # all records listed should be sharing the same \"Purchase_Year\" and \n",
    "        # selecting the first record for inspection will be sufficient.        \n",
    "        for inspection will be enough.\n",
    "        if '2016' in df['Purchase_Date'][0]:\n",
    "            new_column = new_column_2017\n",
    "            year = '2016'\n",
    "        elif '2017' in df['Purchase_Date'][0]:\n",
    "            new_column = new_column_2018\n",
    "            year = '2017'            \n",
    "        \n",
    "    # Rename columns \n",
    "    # 2016: Farm 1, 2, 3-1, 4\n",
    "    # 2017: Farm 1, 2, 3-2, 4\n",
    "    df_column_fixed = df_pivot.reindex(new_column, axis = 'columns')\n",
    "    \n",
    "    # Rename indexes\n",
    "    df_row_fixed = df_column_fixed.reindex(new_index)\n",
    "    \n",
    "    # Rearrange indexes by replacing \"Fruit_Name_ID\" with \"Fruit_Type.\" \n",
    "    # Apple = APPL001 + APPL002\n",
    "    df_row_fixed.loc['Apple'] = df_row_fixed.loc['APPL001'] + df_row_fixed.loc['APPL002']\n",
    "    # Grape = GRAP001\n",
    "    df_row_fixed.loc['Grape'] = df_row_fixed.loc['GRAP001']\n",
    "    # Kiwifruit = KIWI001\n",
    "    df_row_fixed.loc['Kiwifruit'] = df_row_fixed.loc['KIWI001']\n",
    "    # Drop indexes named according to the list of \"Fruit_Name_ID.\"\n",
    "    df_row_fixed = df_row_fixed.drop(index=['APPL001','APPL002','GRAP001','KIWI001'])\n",
    "    \n",
    "    # Replace NA value with zero.\n",
    "    df_fillna = df_row_fixed.fillna(0)\n",
    "    \n",
    "    # Retain indexes when exporting data \n",
    "    df_done = df_fillna.reset_index()\n",
    "    \n",
    "    # Export monthly data\n",
    "    df_done.to_csv(\"G:\\\\Analysis_\" + year + \"_\" + month.replace('/','') + \"_Result.csv\", index = False, encoding = 'ansi')"
   ]
  }
 ],
 "metadata": {
  "kernelspec": {
   "display_name": "Python 3",
   "language": "python",
   "name": "python3"
  },
  "language_info": {
   "codemirror_mode": {
    "name": "ipython",
    "version": 3
   },
   "file_extension": ".py",
   "mimetype": "text/x-python",
   "name": "python",
   "nbconvert_exporter": "python",
   "pygments_lexer": "ipython3",
   "version": "3.6.5"
  }
 },
 "nbformat": 4,
 "nbformat_minor": 2
}
