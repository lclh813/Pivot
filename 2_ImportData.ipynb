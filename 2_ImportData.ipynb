{
 "cells": [
  {
   "cell_type": "markdown",
   "metadata": {},
   "source": [
    "## 2. Import Data\n",
    "Import annual data of 2016 and 2017 respectively."
   ]
  },
  {
   "cell_type": "code",
   "execution_count": null,
   "metadata": {},
   "outputs": [],
   "source": [
    "files = glob.glob('G:\\\\Data\\\\*.xls')\n",
    "\n",
    "data = pd.DataFrame() \n",
    "for file in files:\n",
    "    temp = pd.read_excel(file, encoding = 'utf-8')\n",
    "    # Delete the last row which sums up the purchase of the entire month\n",
    "    temp = temp.drop(temp.index[len(temp)-1])\n",
    "    data = data.append(temp)"
   ]
  }
 ],
 "metadata": {
  "kernelspec": {
   "display_name": "Python 3",
   "language": "python",
   "name": "python3"
  },
  "language_info": {
   "codemirror_mode": {
    "name": "ipython",
    "version": 3
   },
   "file_extension": ".py",
   "mimetype": "text/x-python",
   "name": "python",
   "nbconvert_exporter": "python",
   "pygments_lexer": "ipython3",
   "version": "3.6.5"
  }
 },
 "nbformat": 4,
 "nbformat_minor": 2
}
